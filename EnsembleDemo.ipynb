{
  "nbformat": 4,
  "nbformat_minor": 0,
  "metadata": {
    "colab": {
      "provenance": [],
      "machine_shape": "hm",
      "gpuType": "T4",
      "collapsed_sections": [
        "eIGwl4AM-zcW",
        "gtwnkqZkx-78",
        "8euoUrmnb1X-",
        "Dtv8JHEAKxon"
      ]
    },
    "kernelspec": {
      "name": "python3",
      "display_name": "Python 3"
    },
    "language_info": {
      "name": "python"
    },
    "accelerator": "GPU"
  },
  "cells": [
    {
      "cell_type": "markdown",
      "source": [
        "# Fashion MNIST Ensemble demo\n",
        "\n",
        "In this notebook we create an ensemble of three classifiers trained on the Fashion MNIST model and test its accuracy based on fresh images created from a pretrained GAN model.\n",
        "\n",
        "<img src='https://raw.githubusercontent.com/omarsilloMG/IA5008/master/Homeworks/GAN.png'>\n",
        "\n",
        "<img src='https://raw.githubusercontent.com/omarsilloMG/IA5008/master/Homeworks/methodology.png'>"
      ],
      "metadata": {
        "id": "UR-_f1VkxseT"
      }
    },
    {
      "cell_type": "code",
      "execution_count": null,
      "metadata": {
        "colab": {
          "base_uri": "https://localhost:8080/"
        },
        "id": "k_FSmPtU-ED4",
        "outputId": "98f6add2-a60b-4269-a02a-dd86c8bf98f0"
      },
      "outputs": [
        {
          "output_type": "stream",
          "name": "stdout",
          "text": [
            "Drive already mounted at /content/gdrive; to attempt to forcibly remount, call drive.mount(\"/content/gdrive\", force_remount=True).\n"
          ]
        }
      ],
      "source": [
        "from google.colab import drive\n",
        "drive.mount('/content/gdrive')"
      ]
    },
    {
      "cell_type": "markdown",
      "source": [
        "# Setup the environment"
      ],
      "metadata": {
        "id": "eIGwl4AM-zcW"
      }
    },
    {
      "cell_type": "code",
      "source": [
        "import tensorflow as tf\n",
        "import torch\n",
        "from torch import nn\n",
        "from tqdm.auto import tqdm\n",
        "from torchvision import transforms\n",
        "from torchvision.datasets import FashionMNIST\n",
        "from torchvision.utils import make_grid\n",
        "from torch.utils.data import DataLoader\n",
        "import matplotlib.pyplot as plt\n",
        "torch.manual_seed(0) # Set for testing purposes, please do not change!\n",
        "\n",
        "def show_tensor_images(image_tensor, num_images=25, size=(1, 28, 28)):\n",
        "    '''\n",
        "    Function for visualizing images: Given a tensor of images, number of images, and\n",
        "    size per image, plots and prints the images in an uniform grid.\n",
        "    '''\n",
        "    image_tensor = (image_tensor + 1) / 2\n",
        "    image_unflat = image_tensor.detach().cpu()\n",
        "    image_grid = make_grid(image_unflat[:num_images], nrow=5)\n",
        "    plt.imshow(image_grid.permute(1, 2, 0).squeeze())\n",
        "    plt.show()"
      ],
      "metadata": {
        "id": "ljXAu5sr-1Ws"
      },
      "execution_count": null,
      "outputs": []
    },
    {
      "cell_type": "markdown",
      "source": [
        "# Model definition"
      ],
      "metadata": {
        "id": "gtwnkqZkx-78"
      }
    },
    {
      "cell_type": "markdown",
      "source": [
        "Define the generator"
      ],
      "metadata": {
        "id": "ADw4sB8L-2WW"
      }
    },
    {
      "cell_type": "code",
      "source": [
        "class Generator(nn.Module):\n",
        "    '''\n",
        "    Generator Class\n",
        "    Values:\n",
        "        z_dim: the dimension of the noise vector, a scalar\n",
        "        im_chan: the number of channels in the images, fitted for the dataset used, a scalar\n",
        "              (MNIST is black-and-white, so 1 channel is your default)\n",
        "        hidden_dim: the inner dimension, a scalar\n",
        "    '''\n",
        "    def __init__(self, input_dim=10, im_chan=1, hidden_dim=64):\n",
        "        super(Generator, self).__init__()\n",
        "        self.z_dim = input_dim\n",
        "        # Build the neural network\n",
        "        self.gen = nn.Sequential(\n",
        "            self.make_gen_block(input_dim, hidden_dim * 4),\n",
        "            self.make_gen_block(hidden_dim * 4, hidden_dim * 2, kernel_size=4, stride=1),\n",
        "            self.make_gen_block(hidden_dim * 2, hidden_dim),\n",
        "            self.make_gen_block(hidden_dim, im_chan, kernel_size=4, final_layer=True),\n",
        "        )\n",
        "\n",
        "    def make_gen_block(self, input_channels, output_channels, kernel_size=3, stride=2, final_layer=False):\n",
        "        '''\n",
        "        Function to return a sequence of operations corresponding to a generator block of DCGAN;\n",
        "        a transposed convolution, a batchnorm (except in the final layer), and an activation.\n",
        "        Parameters:\n",
        "            input_channels: how many channels the input feature representation has\n",
        "            output_channels: how many channels the output feature representation should have\n",
        "            kernel_size: the size of each convolutional filter, equivalent to (kernel_size, kernel_size)\n",
        "            stride: the stride of the convolution\n",
        "            final_layer: a boolean, true if it is the final layer and false otherwise\n",
        "                      (affects activation and batchnorm)\n",
        "        '''\n",
        "        if not final_layer:\n",
        "            return nn.Sequential(\n",
        "                nn.ConvTranspose2d(input_channels, output_channels, kernel_size, stride),\n",
        "                nn.BatchNorm2d(output_channels),\n",
        "                nn.ReLU(inplace=True),\n",
        "            )\n",
        "        else:\n",
        "            return nn.Sequential(\n",
        "                nn.ConvTranspose2d(input_channels, output_channels, kernel_size, stride),\n",
        "                nn.Tanh(),\n",
        "            )\n",
        "\n",
        "    def unsqueeze_noise(self, noise):\n",
        "        '''\n",
        "        Function for completing a forward pass of the generator: Given a noise tensor,\n",
        "        returns a copy of that noise with width and height = 1 and channels = z_dim.\n",
        "        Parameters:\n",
        "            noise: a noise tensor with dimensions (n_samples, z_dim)\n",
        "        '''\n",
        "        return noise.view(len(noise), self.z_dim, 1, 1)\n",
        "\n",
        "    def forward(self, noise):\n",
        "        '''\n",
        "        Function for completing a forward pass of the generator: Given a noise tensor,\n",
        "        returns generated images.\n",
        "        Parameters:\n",
        "            noise: a noise tensor with dimensions (n_samples, z_dim)\n",
        "        '''\n",
        "        x = self.unsqueeze_noise(noise)\n",
        "        return self.gen(x)\n",
        "\n",
        "def get_noise(n_samples, z_dim, device='cpu'):\n",
        "    '''\n",
        "    Function for creating noise vectors: Given the dimensions (n_samples, z_dim)\n",
        "    creates a tensor of that shape filled with random numbers from the normal distribution.\n",
        "    Parameters:\n",
        "      n_samples: the number of samples to generate, a scalar\n",
        "      z_dim: the dimension of the noise vector, a scalar\n",
        "      device: the device type\n",
        "    '''\n",
        "    return torch.randn(n_samples, z_dim, device=device)"
      ],
      "metadata": {
        "id": "B0689Ntf-8fD"
      },
      "execution_count": null,
      "outputs": []
    },
    {
      "cell_type": "markdown",
      "source": [
        "Helper functions"
      ],
      "metadata": {
        "id": "j4Goi4qQ_uCc"
      }
    },
    {
      "cell_type": "code",
      "source": [
        "def combine_vectors(x, y):\n",
        "    '''\n",
        "    Function for combining two vectors with shapes (n_samples, ?) and (n_samples, ?).\n",
        "    Parameters:\n",
        "      x: (n_samples, ?) the first vector.\n",
        "        In this assignment, this will be the noise vector of shape (n_samples, z_dim),\n",
        "        but you shouldn't need to know the second dimension's size.\n",
        "      y: (n_samples, ?) the second vector.\n",
        "        Once again, in this assignment this will be the one-hot class vector\n",
        "        with the shape (n_samples, n_classes), but you shouldn't assume this in your code.\n",
        "    '''\n",
        "    # Note: Make sure this function outputs a float no matter what inputs it receives\n",
        "    #### START CODE HERE ####\n",
        "    combined = torch.cat([x,y],dim=1).float()\n",
        "    #### END CODE HERE ####\n",
        "    return combined"
      ],
      "metadata": {
        "id": "3Xi9-5a-DzcC"
      },
      "execution_count": null,
      "outputs": []
    },
    {
      "cell_type": "code",
      "source": [
        "def get_input_dimensions(z_dim, mnist_shape, n_classes):\n",
        "    '''\n",
        "    Function for getting the size of the conditional input dimensions\n",
        "    from z_dim, the image shape, and number of classes.\n",
        "    Parameters:\n",
        "        z_dim: the dimension of the noise vector, a scalar\n",
        "        mnist_shape: the shape of each MNIST image as (C, W, H), which is (1, 28, 28)\n",
        "        n_classes: the total number of classes in the dataset, an integer scalar\n",
        "                (10 for MNIST)\n",
        "    Returns:\n",
        "        generator_input_dim: the input dimensionality of the conditional generator,\n",
        "                          which takes the noise and class vectors\n",
        "        discriminator_im_chan: the number of input channels to the discriminator\n",
        "                            (e.g. C x 28 x 28 for MNIST)\n",
        "    '''\n",
        "    #### START CODE HERE ####\n",
        "    generator_input_dim = z_dim+n_classes\n",
        "    discriminator_im_chan = n_classes+mnist_shape[0]\n",
        "    #### END CODE HERE ####\n",
        "    return generator_input_dim, discriminator_im_chan"
      ],
      "metadata": {
        "id": "5Bksu1c__tS_"
      },
      "execution_count": null,
      "outputs": []
    },
    {
      "cell_type": "code",
      "source": [
        "import torch.nn.functional as F\n",
        "def get_one_hot_labels(labels, n_classes):\n",
        "    '''\n",
        "    Function for creating one-hot vectors for the labels, returns a tensor of shape (?, num_classes).\n",
        "    Parameters:\n",
        "        labels: tensor of labels from the dataloader, size (?)\n",
        "        n_classes: the total number of classes in the dataset, an integer scalar\n",
        "    '''\n",
        "    #### START CODE HERE ####\n",
        "    return F.one_hot(labels,n_classes)\n",
        "    #### END CODE HERE ####"
      ],
      "metadata": {
        "id": "6BLiBfplADLp"
      },
      "execution_count": null,
      "outputs": []
    },
    {
      "cell_type": "markdown",
      "source": [
        "# Model loading"
      ],
      "metadata": {
        "id": "61_QgSkpyDX_"
      }
    },
    {
      "cell_type": "markdown",
      "source": [
        "## Helper functions"
      ],
      "metadata": {
        "id": "8euoUrmnb1X-"
      }
    },
    {
      "cell_type": "code",
      "source": [
        "def resize_and_convert2rgb(img):\n",
        "\n",
        "    IMG_SIZE = 32\n",
        "\n",
        "    # Convert image type\n",
        "    img = tf.image.convert_image_dtype(img, dtype=tf.float32)\n",
        "\n",
        "    # Convert the grayscale image to RGB\n",
        "    img = tf.image.grayscale_to_rgb(img)\n",
        "\n",
        "    # Resize the image to (IMG_SIZE, IMG_SIZE)\n",
        "    img = tf.image.resize(img, [IMG_SIZE, IMG_SIZE])\n",
        "\n",
        "    # NOTE: Rescaling is omitted as it is often part of the preprocesisng of a pretrained model\n",
        "\n",
        "\n",
        "    return img"
      ],
      "metadata": {
        "id": "ZX4i8HV1b7Zp"
      },
      "execution_count": null,
      "outputs": []
    },
    {
      "cell_type": "code",
      "source": [
        "class LayerScale(tf.keras.layers.Layer):\n",
        "    \"\"\"LayerScale as introduced in CaiT: https://arxiv.org/abs/2103.17239.\n",
        "\n",
        "    Args:\n",
        "        init_values (float): value to initialize the diagonal matrix of LayerScale.\n",
        "        projection_dim (int): projection dimension used in LayerScale.\n",
        "    \"\"\"\n",
        "\n",
        "    def __init__(self, init_values: float, projection_dim: int, **kwargs):\n",
        "        super().__init__(**kwargs)\n",
        "        self.gamma = tf.Variable(init_values * tf.ones((projection_dim,)))\n",
        "\n",
        "    def call(self, x, training=False):\n",
        "        return x * self.gamma"
      ],
      "metadata": {
        "id": "lTSYYQQucnrV"
      },
      "execution_count": null,
      "outputs": []
    },
    {
      "cell_type": "markdown",
      "source": [
        "## GAN model"
      ],
      "metadata": {
        "id": "Dtv8JHEAKxon"
      }
    },
    {
      "cell_type": "code",
      "source": [
        "z_dim = 64\n",
        "device = 'cuda'\n",
        "mnist_shape = (1, 28, 28)\n",
        "n_classes = 10\n",
        "\n",
        "# Initialize the model, then load state from the checkpoint\n",
        "generator_input_dim, discriminator_im_chan = get_input_dimensions(z_dim, mnist_shape, n_classes)\n",
        "\n",
        "gen = Generator(input_dim=generator_input_dim).to(device)\n",
        "model_epoch = 500\n",
        "\n",
        "checkpoint = torch.load(f'/content/gdrive/MyDrive/IA5008/GAN models - 2/checkpoint_{model_epoch}.pt')  # replace 'checkpoint.pt' with the path to your checkpoint\n",
        "gen.load_state_dict(checkpoint['gen_state_dict'])"
      ],
      "metadata": {
        "colab": {
          "base_uri": "https://localhost:8080/"
        },
        "id": "awMt7FYC-Tu0",
        "outputId": "7dd45f84-6bec-415f-e595-50c64c9f50fc"
      },
      "execution_count": null,
      "outputs": [
        {
          "output_type": "execute_result",
          "data": {
            "text/plain": [
              "<All keys matched successfully>"
            ]
          },
          "metadata": {},
          "execution_count": 12
        }
      ]
    },
    {
      "cell_type": "markdown",
      "source": [
        "## Prediction models"
      ],
      "metadata": {
        "id": "0ijoU70CKzfc"
      }
    },
    {
      "cell_type": "code",
      "source": [
        "import tensorflow as tf\n",
        "from keras.models import load_model\n",
        "import numpy as np"
      ],
      "metadata": {
        "id": "4dFNhEHbLo4w"
      },
      "execution_count": null,
      "outputs": []
    },
    {
      "cell_type": "code",
      "source": [
        "models_path = '/content/gdrive/Shareddrives/IA5008/Fashion MNIST/Omar/trained_models/'\n",
        "\n",
        "model1 = load_model(models_path + 'resnet50_best_init_training.h5')\n",
        "model2 = load_model(models_path + 'simple_cnn_model.h5')\n",
        "model3 = load_model(models_path + 'convnext_prueba_omar.h5', custom_objects={'LayerScale':LayerScale})"
      ],
      "metadata": {
        "id": "S8a3w53eLAnu"
      },
      "execution_count": null,
      "outputs": []
    },
    {
      "cell_type": "markdown",
      "source": [
        "# Sample generation"
      ],
      "metadata": {
        "id": "SDwnin_cyNS8"
      }
    },
    {
      "cell_type": "code",
      "source": [
        "class_names = ['T-shirt/top', 'Trouser', 'Pullover', 'Dress', 'Coat',\n",
        "               'Sandal', 'Shirt', 'Sneaker', 'Bag', 'Ankle boot']"
      ],
      "metadata": {
        "id": "75LaVRcuNdwW"
      },
      "execution_count": null,
      "outputs": []
    },
    {
      "cell_type": "code",
      "source": [
        "# Make sure to move the model to eval mode before predicting\n",
        "gen.eval()\n",
        "\n",
        "# Generate a batch of noise vectors and class labels\n",
        "num_images      = 1\n",
        "fake_noise      = get_noise(num_images, z_dim, device=device)\n",
        "\n",
        "# ['T-shirt/top', 'Trouser', 'Pullover', 'Dress', 'Coat', 'Sandal', 'Shirt', 'Sneaker', 'Bag', 'Ankle boot']\n",
        "target_class    = class_names.index('Coat')\n",
        "\n",
        "one_hot_labels1  = get_one_hot_labels(torch.Tensor([target_class]).long().to(device), n_classes)"
      ],
      "metadata": {
        "id": "3bL8P9pn-t7O"
      },
      "execution_count": null,
      "outputs": []
    },
    {
      "cell_type": "code",
      "source": [
        "# ['T-shirt/top', 'Trouser', 'Pullover', 'Dress', 'Coat', 'Sandal', 'Shirt', 'Sneaker', 'Bag', 'Ankle boot']\n",
        "target_class    = class_names.index('Bag')\n",
        "\n",
        "one_hot_labels2  = get_one_hot_labels(torch.Tensor([target_class]).long().to(device), n_classes)"
      ],
      "metadata": {
        "id": "6yi9estQeAiQ"
      },
      "execution_count": null,
      "outputs": []
    },
    {
      "cell_type": "code",
      "source": [
        "#target_label = one_hot_labels1.float()\n",
        "#target_label = one_hot_labels2.float()\n",
        "target_label = (one_hot_labels1.float() + one_hot_labels2.float())*0.5"
      ],
      "metadata": {
        "id": "wjyngXWHeJzA"
      },
      "execution_count": null,
      "outputs": []
    },
    {
      "cell_type": "code",
      "source": [
        "# Generate the fake images\n",
        "with torch.no_grad():\n",
        "    fake = gen(torch.cat([fake_noise, target_label],dim=1))\n",
        "    #fake = gen(torch.cat([fake_noise*1.0 - 0.5, target_label],dim=1))\n",
        "\n",
        "show_tensor_images(fake, num_images=num_images)"
      ],
      "metadata": {
        "colab": {
          "base_uri": "https://localhost:8080/",
          "height": 430
        },
        "id": "hQhrZgZcOw63",
        "outputId": "c424ee02-99f2-40b9-fd38-786dcb28363c"
      },
      "execution_count": null,
      "outputs": [
        {
          "output_type": "display_data",
          "data": {
            "text/plain": [
              "<Figure size 640x480 with 1 Axes>"
            ],
            "image/png": "[encoded data removed]"
          },
          "metadata": {}
        }
      ]
    },
    {
      "cell_type": "markdown",
      "source": [
        "# Model prediction"
      ],
      "metadata": {
        "id": "wi226CR8NBjj"
      }
    },
    {
      "cell_type": "code",
      "source": [
        "###############################################################################\n",
        "# Image preprocessing\n",
        "fake_preprocessed        = (fake + 1.0) * 127.5\n",
        "fake_preprocessed_uint8  = tf.cast(fake_preprocessed.cpu(), tf.uint8)\n",
        "img = tf.image.convert_image_dtype(fake_preprocessed_uint8, dtype=tf.float32)\n",
        "img /= 255.0\n",
        "\n",
        "# Model 1 image\n",
        "reshaped_input = np.reshape(img, (-1, 28, 28, 1))\n",
        "\n",
        "# Model 2 image\n",
        "reshaped_input2 = resize_and_convert2rgb(reshaped_input)\n",
        "\n",
        "###############################################################################\n",
        "# Individual model predictions\n",
        "pred1                 = model1.predict(reshaped_input)\n",
        "softmax_predictions1  = tf.nn.softmax(pred1)\n",
        "\n",
        "pred2                 = model2.predict(reshaped_input)\n",
        "softmax_predictions2  = tf.nn.softmax(pred2)\n",
        "\n",
        "pred3                 = model3.predict(reshaped_input2)\n",
        "softmax_predictions3  = tf.nn.softmax(pred3)\n",
        "\n",
        "###############################################################################\n",
        "# Model ensemble\n",
        "ensemble_prediction       = 0.45*softmax_predictions1 + 0.45*softmax_predictions2 + 0.1*softmax_predictions3\n",
        "ensemble_prediction_class = np.argmax(ensemble_prediction, axis=1)\n",
        "\n",
        "predicted_class     = class_names[ensemble_prediction_class[0]]\n",
        "predicted_class"
      ],
      "metadata": {
        "colab": {
          "base_uri": "https://localhost:8080/",
          "height": 87
        },
        "id": "LcS2FMy1bpg5",
        "outputId": "8668d75d-bc38-422b-ba40-b978d0f29d11"
      },
      "execution_count": null,
      "outputs": [
        {
          "output_type": "stream",
          "name": "stdout",
          "text": [
            "1/1 [==============================] - 0s 23ms/step\n",
            "1/1 [==============================] - 0s 18ms/step\n",
            "1/1 [==============================] - 0s 51ms/step\n"
          ]
        },
        {
          "output_type": "execute_result",
          "data": {
            "text/plain": [
              "'Coat'"
            ],
            "application/vnd.google.colaboratory.intrinsic+json": {
              "type": "string"
            }
          },
          "metadata": {},
          "execution_count": 141
        }
      ]
    },
    {
      "cell_type": "code",
      "source": [
        "# Create a barplot\n",
        "plt.bar(class_names, ensemble_prediction.numpy()[0])\n",
        "\n",
        "# Set labels and title\n",
        "plt.xlabel('Categories')\n",
        "plt.ylabel('Probability')\n",
        "plt.title('Class probabilities')\n",
        "\n",
        "# Rotate the x-axis labels for better visibility\n",
        "plt.xticks(rotation=45)\n",
        "\n",
        "# Display the plot\n",
        "plt.show()"
      ],
      "metadata": {
        "colab": {
          "base_uri": "https://localhost:8080/",
          "height": 520
        },
        "id": "sDkIUx77hFJM",
        "outputId": "6194cc91-c105-463e-8dea-44089fbeef8c"
      },
      "execution_count": null,
      "outputs": [
        {
          "output_type": "display_data",
          "data": {
            "text/plain": [
              "<Figure size 640x480 with 1 Axes>"
            ],
            "image/png": "[encoded data removed]"
          },
          "metadata": {}
        }
      ]
    },
    {
      "cell_type": "code",
      "source": [],
      "metadata": {
        "id": "-TfeMlDTNrzt"
      },
      "execution_count": null,
      "outputs": []
    }
  ]
}